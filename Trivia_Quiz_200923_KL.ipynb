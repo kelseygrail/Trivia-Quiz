{
  "nbformat": 4,
  "nbformat_minor": 0,
  "metadata": {
    "colab": {
      "name": "Trivia Quiz 200923 KL.ipynb",
      "provenance": [],
      "collapsed_sections": []
    },
    "kernelspec": {
      "name": "python3",
      "display_name": "Python 3"
    }
  },
  "cells": [
    {
      "cell_type": "code",
      "metadata": {
        "id": "Yc1kcrAZDHKA",
        "colab_type": "code",
        "colab": {}
      },
      "source": [
        "import random\n",
        "def play_game():\n",
        "  question_number = 0\n",
        "  score = 0\n",
        "\n",
        "  questions_list = [\"Which country gave the Statue of Liberty to US?\",\"What is the real name of The Flash?\",\"Where is the world's quietest room located?\",\"What is Tony Stark's phone number on Thor's Hammer?\",\"The place with the longest name in the world has how many characters?\",\"What is the most popular name in the world?\",\"What is the densest planet in the Solar System?\"]\n",
        "  choices_list = [['1. Spain','2. France','3. Japan'],['1. Larry Allen','2. Harry Allen','3. Barry Allen'],['1. Singapore','2. India','3. USA'],['1. 212-970-4133','2. 212-971-4133','3. 212-972-4133'],['1. 85','2. 90','3. 98'],['1. John','2. Muhammad','3. Seo-Yeon'],['1. Earth','2. Jupiter','3. Mercury']]\n",
        "  correct_list = ['2','3','3','1','1','2','1']\n",
        "\n",
        "\n",
        "  while question_number != 5:\n",
        "    question = random.choice(list(questions_list)) \n",
        "    question_index = questions_list.index(question) \n",
        "    correct = correct_list[question_index]\n",
        "    print(question)\n",
        " \n",
        "    for choices in choices_list[question_index]:\n",
        "      print(choices)\n",
        "    answer = input(\"Answer: \")\n",
        "    if answer == correct:\n",
        "      score += 2\n",
        "      print(\"Correct!\\n\")\n",
        "    else:\n",
        "      print(\"Wrong\\n\")\n",
        "      \n",
        "    questions_list.pop(question_index)\n",
        "    choices_list.pop(question_index)\n",
        "    correct_list.pop(question_index)\n",
        "    question_number += 1\n",
        " \n",
        "  if score >= 7:\n",
        "    print(\"\\nCongratulations! Your score is \" + str(score))\n",
        "  else:\n",
        "    print(\"\\nYour score is \" + str(score) + \". Better luck next time!\")\n",
        " \n",
        " \n",
        "#--------------------------------------------------------------------------------------------------------------------------------------------\n",
        " \n",
        " \n",
        "name = input(\"Hi! What's your name?\")\n",
        "print(\"\\nHi, \" + name + \"! TRIVIA TIME!\")\n",
        " \n",
        "choice = ''\n",
        "while choice != '0':\n",
        "  print(\"\\n--------------------------------\")\n",
        "  print(\"[1] Start!\")\n",
        "  print(\"[0] Quit\")\n",
        "  print(\"--------------------------------\")\n",
        " \n",
        "  choice  = input(\"\\nStart or Quit? (1 or 0) \")\n",
        "  if choice == '1':\n",
        "    print(\"\\nAlright! Here we go.\\n\")\n",
        "    play_game()\n",
        "  elif choice == '0':\n",
        "    print(\"\\nSee you later! \")\n",
        "  else:\n",
        "    print(\"\\nSorry I don't understand. Please choose between 1 and 0.\")"
      ],
      "execution_count": null,
      "outputs": []
    }
  ]
}